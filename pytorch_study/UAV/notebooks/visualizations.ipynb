{
 "cells": [
  {
   "cell_type": "markdown",
   "id": "aaab361f",
   "metadata": {},
   "source": [
    "## Notebook for Data Annotation Visualization\n",
    "\n",
    "A simple notebook for visualizing ground truth data with the annotated bounding booxes.\n",
    "\n",
    "Change the image and annotation path as per your dataset directory path."
   ]
  },
  {
   "cell_type": "code",
   "execution_count": null,
   "id": "56c7d9dc",
   "metadata": {},
   "outputs": [],
   "source": [
    "import os\n",
    "import cv2\n",
    "import matplotlib.pyplot as plt\n",
    "import glob as glob\n",
    "import random\n",
    "import numpy as np\n",
    "\n",
    "from xml.etree import ElementTree as et\n",
    "\n",
    "np.random.seed(100)"
   ]
  },
  {
   "cell_type": "code",
   "execution_count": null,
   "id": "b190f649",
   "metadata": {},
   "outputs": [],
   "source": [
    "image_paths = os.path.join(\n",
    "    '..',\n",
    "    'data',\n",
    "    'test_images'\n",
    ")\n",
    "annotation_paths = os.path.join(\n",
    "    '..',\n",
    "    'data',\n",
    "    'test_annots'\n",
    ")"
   ]
  },
  {
   "cell_type": "code",
   "execution_count": null,
   "id": "47d5336a",
   "metadata": {},
   "outputs": [],
   "source": [
    "CLASSES = [\n",
    "    'building',\n",
    "    'ship',\n",
    "    'vehicle',\n",
    "    'prefabricated-house',\n",
    "    'well',\n",
    "    'cable-tower',\n",
    "    'pool',\n",
    "    'landslide',\n",
    "    'cultivation-mesh-cage',\n",
    "    'quarry'\n",
    "]\n",
    "COLORS = np.random.uniform(0, 255, size=(len(CLASSES), 3))"
   ]
  },
  {
   "cell_type": "code",
   "execution_count": null,
   "id": "318a1478",
   "metadata": {},
   "outputs": [],
   "source": [
    "images = glob.glob(os.path.join(image_paths, '*.jpg'))\n",
    "annotations = glob.glob(os.path.join(annotation_paths, '*.xml'))\n",
    "\n",
    "images.sort()\n",
    "annotations.sort()\n",
    "\n",
    "# Randomize in same order.\n",
    "random.Random(42).shuffle(images)\n",
    "random.Random(42).shuffle(annotations)"
   ]
  },
  {
   "cell_type": "code",
   "execution_count": null,
   "id": "5b44217f",
   "metadata": {},
   "outputs": [],
   "source": [
    "def read_annotations(xml_path):\n",
    "    tree = et.parse(xml_path)\n",
    "    root = tree.getroot()\n",
    "    \n",
    "    boxes = []\n",
    "    labels = []\n",
    "\n",
    "    # Get the height and width of the image.\n",
    "    image_width = image.shape[1]\n",
    "    image_height = image.shape[0]\n",
    "\n",
    "    # Box coordinates for xml files are extracted and corrected for image size given.\n",
    "    for member in root.findall('object'):\n",
    "        labels.append(member.find('name').text)\n",
    "        # xmin = left corner x-coordinates\n",
    "        xmin = int(member.find('bndbox').find('xmin').text)\n",
    "        # xmax = right corner x-coordinates\n",
    "        xmax = int(member.find('bndbox').find('xmax').text)\n",
    "        # ymin = left corner y-coordinates\n",
    "        ymin = int(member.find('bndbox').find('ymin').text)\n",
    "        # ymax = right corner y-coordinates\n",
    "        ymax = int(member.find('bndbox').find('ymax').text)\n",
    "        \n",
    "        boxes.append([xmin, ymin, xmax, ymax])\n",
    "    return boxes, labels"
   ]
  },
  {
   "cell_type": "code",
   "execution_count": null,
   "id": "f5d0f948",
   "metadata": {
    "scrolled": false
   },
   "outputs": [],
   "source": [
    "for data_num, image_path in enumerate(images):\n",
    "    image = cv2.imread(image_path)\n",
    "    xml_path = annotations[data_num]\n",
    "    boxes, labels = read_annotations(xml_path)\n",
    "    plt.figure(figsize=(20, 17))\n",
    "    for i, box in enumerate(boxes):\n",
    "        xmin = box[0]\n",
    "        ymin = box[1]\n",
    "        xmax = box[2]\n",
    "        ymax = box[3]\n",
    "        class_name = labels[i]\n",
    "        color = COLORS[CLASSES.index(class_name)]\n",
    "        cv2.rectangle(\n",
    "            image, \n",
    "            (int(xmin), int(ymin)),\n",
    "            (int(xmax), int(ymax)),\n",
    "            color=color,\n",
    "            thickness=3,\n",
    "            lineType=cv2.LINE_AA\n",
    "        )\n",
    "        cv2.putText(\n",
    "            image,\n",
    "            text=labels[i],\n",
    "            org=(int(xmin), int(ymin-7)),\n",
    "            fontFace=cv2.FONT_HERSHEY_SIMPLEX,\n",
    "            fontScale=0.8,\n",
    "            color=color,\n",
    "            thickness=2,\n",
    "            lineType=cv2.LINE_AA\n",
    "        )\n",
    "#     if data_num == 10:\n",
    "#         break\n",
    "    plt.title(image_path.split('/')[-1])\n",
    "    plt.imshow(image[:, :, ::-1])\n",
    "    plt.axis('off')\n",
    "    plt.show()"
   ]
  },
  {
   "cell_type": "code",
   "execution_count": null,
   "id": "3d95469a",
   "metadata": {},
   "outputs": [],
   "source": []
  }
 ],
 "metadata": {
  "kernelspec": {
   "display_name": "Python 3 (ipykernel)",
   "language": "python",
   "name": "python3"
  },
  "language_info": {
   "codemirror_mode": {
    "name": "ipython",
    "version": 3
   },
   "file_extension": ".py",
   "mimetype": "text/x-python",
   "name": "python",
   "nbconvert_exporter": "python",
   "pygments_lexer": "ipython3",
   "version": "3.10.9"
  }
 },
 "nbformat": 4,
 "nbformat_minor": 5
}
