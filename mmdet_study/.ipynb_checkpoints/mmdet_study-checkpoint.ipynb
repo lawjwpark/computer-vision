{
 "cells": [
  {
   "cell_type": "code",
   "execution_count": 1,
   "id": "d9432b9a",
   "metadata": {},
   "outputs": [],
   "source": [
    "import torch"
   ]
  },
  {
   "cell_type": "code",
   "execution_count": 2,
   "id": "6a12dfbc",
   "metadata": {},
   "outputs": [
    {
     "data": {
      "text/plain": [
       "'1.3.1+cpu'"
      ]
     },
     "execution_count": 2,
     "metadata": {},
     "output_type": "execute_result"
    }
   ],
   "source": [
    "torch.__version__"
   ]
  },
  {
   "cell_type": "code",
   "execution_count": 3,
   "id": "08730060",
   "metadata": {},
   "outputs": [
    {
     "name": "stdout",
     "output_type": "stream",
     "text": [
      "Collecting mmcv-full\n",
      "  Downloading mmcv-full-1.7.1.tar.gz (605 kB)\n",
      "\u001b[K     |████████████████████████████████| 605 kB 5.6 MB/s eta 0:00:01\n",
      "\u001b[?25hCollecting addict\n",
      "  Downloading addict-2.4.0-py3-none-any.whl (3.8 kB)\n",
      "Requirement already satisfied: numpy in /usr/local/lib/python3.7/site-packages (from mmcv-full) (1.19.4)\n",
      "Requirement already satisfied: packaging in /usr/local/lib/python3.7/site-packages (from mmcv-full) (23.1)\n",
      "Requirement already satisfied: Pillow in /usr/local/lib/python3.7/site-packages (from mmcv-full) (8.0.1)\n",
      "Requirement already satisfied: pyyaml in /usr/local/lib/python3.7/site-packages (from mmcv-full) (5.3.1)\n",
      "Collecting yapf\n",
      "  Downloading yapf-0.40.1-py3-none-any.whl (250 kB)\n",
      "\u001b[K     |████████████████████████████████| 250 kB 27.3 MB/s eta 0:00:01\n",
      "\u001b[?25hCollecting opencv-python>=3\n",
      "  Downloading opencv_python-4.8.0.74-cp37-abi3-manylinux_2_17_x86_64.manylinux2014_x86_64.whl (61.7 MB)\n",
      "\u001b[K     |████████████████████████████████| 61.7 MB 46 kB/s s eta 0:00:01     |█████████████████████           | 40.3 MB 31.8 MB/s eta 0:00:01     |██████████████████████          | 42.4 MB 41.9 MB/s eta 0:00:01     |█████████████████████████▍      | 48.9 MB 41.9 MB/s eta 0:00:01\n",
      "\u001b[?25hRequirement already satisfied: importlib-metadata>=6.6.0 in /usr/local/lib/python3.7/site-packages (from yapf->mmcv-full) (6.7.0)\n",
      "Collecting platformdirs>=3.5.1\n",
      "  Downloading platformdirs-3.8.0-py3-none-any.whl (16 kB)\n",
      "Requirement already satisfied: tomli>=2.0.1 in /usr/local/lib/python3.7/site-packages (from yapf->mmcv-full) (2.0.1)\n",
      "Requirement already satisfied: zipp>=0.5 in /usr/local/lib/python3.7/site-packages (from importlib-metadata>=6.6.0->yapf->mmcv-full) (3.4.0)\n",
      "Requirement already satisfied: typing-extensions>=3.6.4; python_version < \"3.8\" in /usr/local/lib/python3.7/site-packages (from importlib-metadata>=6.6.0->yapf->mmcv-full) (4.7.0)\n",
      "Building wheels for collected packages: mmcv-full\n",
      "  Building wheel for mmcv-full (setup.py) ... \u001b[?25ldone\n",
      "\u001b[?25h  Created wheel for mmcv-full: filename=mmcv_full-1.7.1-cp37-cp37m-linux_x86_64.whl size=30674591 sha256=2026048c96d89a2363f83622fffda238c7c340eba5460fb8a282a715498d7c26\n",
      "  Stored in directory: /root/.cache/pip/wheels/27/d5/67/e59eb8b14401d1ac087a8a03641951cb4e32d09a23c62b7265\n",
      "Successfully built mmcv-full\n",
      "Installing collected packages: addict, platformdirs, yapf, opencv-python, mmcv-full\n",
      "Successfully installed addict-2.4.0 mmcv-full-1.7.1 opencv-python-4.8.0.74 platformdirs-3.8.0 yapf-0.40.1\n",
      "\u001b[33mWARNING: You are using pip version 20.2.4; however, version 23.1.2 is available.\n",
      "You should consider upgrading via the '/usr/local/bin/python3.7 -m pip install --upgrade pip' command.\u001b[0m\n",
      "Note: you may need to restart the kernel to use updated packages.\n"
     ]
    }
   ],
   "source": [
    "pip install mmcv-full"
   ]
  },
  {
   "cell_type": "code",
   "execution_count": 9,
   "id": "1e7141e9",
   "metadata": {},
   "outputs": [
    {
     "name": "stdout",
     "output_type": "stream",
     "text": [
      "/workspace/mmdet_study/mmdet_study\n"
     ]
    }
   ],
   "source": [
    "cd '/workspace/mmdet_study/mmdet_study'"
   ]
  },
  {
   "cell_type": "code",
   "execution_count": 13,
   "id": "9db2218d",
   "metadata": {},
   "outputs": [
    {
     "name": "stdout",
     "output_type": "stream",
     "text": [
      "\u001b[0m\u001b[01;34mmmdet_study\u001b[0m/\r\n"
     ]
    }
   ],
   "source": [
    "ls"
   ]
  },
  {
   "cell_type": "code",
   "execution_count": null,
   "id": "99e832bd",
   "metadata": {},
   "outputs": [],
   "source": []
  }
 ],
 "metadata": {
  "kernelspec": {
   "display_name": "Python 3",
   "language": "python",
   "name": "python3"
  },
  "language_info": {
   "codemirror_mode": {
    "name": "ipython",
    "version": 3
   },
   "file_extension": ".py",
   "mimetype": "text/x-python",
   "name": "python",
   "nbconvert_exporter": "python",
   "pygments_lexer": "ipython3",
   "version": "3.7.4"
  }
 },
 "nbformat": 4,
 "nbformat_minor": 5
}
